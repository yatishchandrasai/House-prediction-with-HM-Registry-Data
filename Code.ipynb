{
  "nbformat": 4,
  "nbformat_minor": 0,
  "metadata": {
    "colab": {
      "provenance": [],
      "collapsed_sections": [
        "j6Mj_XLd8Q1s"
      ]
    },
    "kernelspec": {
      "name": "python3",
      "display_name": "Python 3"
    },
    "language_info": {
      "name": "python"
    }
  },
  "cells": [
    {
      "cell_type": "markdown",
      "source": [
        "## Importing the modules"
      ],
      "metadata": {
        "id": "x2rSJ0Yk8neA"
      }
    },
    {
      "cell_type": "code",
      "source": [
        "import pandas as pd\n",
        "import requests\n",
        "from google.colab import drive\n",
        "drive.mount('/content/drive')\n",
        "import numpy as np\n",
        "import pandas as pd\n",
        "import glob\n",
        "import os\n",
        "from pyproj import Transformer\n",
        "import time\n",
        "from scipy.spatial import cKDTree"
      ],
      "metadata": {
        "colab": {
          "base_uri": "https://localhost:8080/"
        },
        "id": "MyCX9KCF17l1",
        "outputId": "ea62a58d-22f7-4fbf-f769-97ae58483630"
      },
      "execution_count": 5,
      "outputs": [
        {
          "output_type": "stream",
          "name": "stdout",
          "text": [
            "Drive already mounted at /content/drive; to attempt to forcibly remount, call drive.mount(\"/content/drive\", force_remount=True).\n"
          ]
        }
      ]
    },
    {
      "cell_type": "markdown",
      "source": [],
      "metadata": {
        "id": "NF3CQZkD8kDm"
      }
    },
    {
      "cell_type": "code",
      "source": [],
      "metadata": {
        "id": "EHxAydKE3n8E"
      },
      "execution_count": 5,
      "outputs": []
    },
    {
      "cell_type": "markdown",
      "source": [
        "## Reading the Property sale data 2023"
      ],
      "metadata": {
        "id": "6dqkUIzQ3rTh"
      }
    },
    {
      "cell_type": "code",
      "execution_count": 6,
      "metadata": {
        "colab": {
          "base_uri": "https://localhost:8080/"
        },
        "id": "dITZWIXa1eCY",
        "outputId": "3dc5b887-c6c6-4e76-e3de-e1c2a156477e"
      },
      "outputs": [
        {
          "output_type": "stream",
          "name": "stdout",
          "text": [
            "(812766, 16)\n"
          ]
        }
      ],
      "source": [
        "csv_file = \"/content/drive/MyDrive/data science project/pp-2023.csv\"\n",
        "land_registry_df = pd.read_csv(csv_file, header=None)\n",
        "print(land_registry_df.shape)"
      ]
    },
    {
      "cell_type": "markdown",
      "source": [
        " ##### Link to the header file https://www.gov.uk/guidance/about-the-price-paid-data\n",
        "\n",
        "\n",
        ""
      ],
      "metadata": {
        "id": "aaeKXmEsTD5T"
      }
    },
    {
      "cell_type": "code",
      "source": [
        "land_registry_df.columns = ['Transaction unique identifier','Price','Date of Transfer',\n",
        "                            'Postcode','PropertyType','Old/New','Duration','PAON','SAON',\n",
        "                            'Street','Locality','Town/city','District','County','PPD Category Type','Record Status-monthly file only']"
      ],
      "metadata": {
        "id": "8i-PuVUS_jhi"
      },
      "execution_count": 7,
      "outputs": []
    },
    {
      "cell_type": "code",
      "source": [],
      "metadata": {
        "id": "KMMPpJoM3-ZG"
      },
      "execution_count": 7,
      "outputs": []
    },
    {
      "cell_type": "markdown",
      "source": [
        "## Reading the Stops data\n",
        "\n"
      ],
      "metadata": {
        "id": "DOR_3vZo3_C5"
      }
    },
    {
      "cell_type": "code",
      "source": [
        "csv_file = \"/content/drive/MyDrive/data science project/Stops.csv\"\n",
        "Stops = pd.read_csv(csv_file)\n",
        "print(Stops.shape)"
      ],
      "metadata": {
        "colab": {
          "base_uri": "https://localhost:8080/"
        },
        "id": "CAYllaDi4aE8",
        "outputId": "304b8666-ae2a-422b-a3d3-908bf980b43e"
      },
      "execution_count": 8,
      "outputs": [
        {
          "output_type": "stream",
          "name": "stderr",
          "text": [
            "<ipython-input-8-ee71dce86309>:2: DtypeWarning: Columns (1,2,6,8,21,22,23,24,25) have mixed types. Specify dtype option on import or set low_memory=False.\n",
            "  Stops = pd.read_csv(csv_file)\n"
          ]
        },
        {
          "output_type": "stream",
          "name": "stdout",
          "text": [
            "(435436, 43)\n"
          ]
        }
      ]
    },
    {
      "cell_type": "code",
      "source": [
        "Stops[:5].columns"
      ],
      "metadata": {
        "colab": {
          "base_uri": "https://localhost:8080/"
        },
        "id": "SFwjQ-Cz4uf5",
        "outputId": "07fb53ba-d4d7-4393-c793-33c092a846c9"
      },
      "execution_count": 9,
      "outputs": [
        {
          "output_type": "execute_result",
          "data": {
            "text/plain": [
              "Index(['ATCOCode', 'NaptanCode', 'PlateCode', 'CleardownCode', 'CommonName',\n",
              "       'CommonNameLang', 'ShortCommonName', 'ShortCommonNameLang', 'Landmark',\n",
              "       'LandmarkLang', 'Street', 'StreetLang', 'Crossing', 'CrossingLang',\n",
              "       'Indicator', 'IndicatorLang', 'Bearing', 'NptgLocalityCode',\n",
              "       'LocalityName', 'ParentLocalityName', 'GrandParentLocalityName', 'Town',\n",
              "       'TownLang', 'Suburb', 'SuburbLang', 'LocalityCentre', 'GridType',\n",
              "       'Easting', 'Northing', 'Longitude', 'Latitude', 'StopType',\n",
              "       'BusStopType', 'TimingStatus', 'DefaultWaitTime', 'Notes', 'NotesLang',\n",
              "       'AdministrativeAreaCode', 'CreationDateTime', 'ModificationDateTime',\n",
              "       'RevisionNumber', 'Modification', 'Status'],\n",
              "      dtype='object')"
            ]
          },
          "metadata": {},
          "execution_count": 9
        }
      ]
    },
    {
      "cell_type": "markdown",
      "source": [
        "## Reading the School data"
      ],
      "metadata": {
        "id": "E8c7uVNq4U41"
      }
    },
    {
      "cell_type": "code",
      "source": [
        "csv_file2 = \"/content/drive/MyDrive/data science project/2023-2024_england_school_information.csv\"\n",
        "schools = pd.read_csv(csv_file2)\n",
        "schools.shape"
      ],
      "metadata": {
        "colab": {
          "base_uri": "https://localhost:8080/"
        },
        "id": "gyj2stry4z2Y",
        "outputId": "4f8c450e-e7bb-434a-ca1d-47cc652baa3f"
      },
      "execution_count": 10,
      "outputs": [
        {
          "output_type": "execute_result",
          "data": {
            "text/plain": [
              "(25489, 26)"
            ]
          },
          "metadata": {},
          "execution_count": 10
        }
      ]
    },
    {
      "cell_type": "markdown",
      "source": [
        "## Data preprocessing\n",
        "\n"
      ],
      "metadata": {
        "id": "B2kDMzKx5R-5"
      }
    },
    {
      "cell_type": "markdown",
      "source": [
        "### Data type conversion"
      ],
      "metadata": {
        "id": "YoCTdWka7Z35"
      }
    },
    {
      "cell_type": "code",
      "source": [
        "for col in ['Easting','Northing','Longitude','Latitude']:\n",
        "    Stops[col] = pd.to_numeric(Stops[col], errors='coerce')\n",
        "\n",
        "print(Stops[['CommonName','Longitude','Latitude']])"
      ],
      "metadata": {
        "colab": {
          "base_uri": "https://localhost:8080/"
        },
        "id": "a23TY4vCDcPG",
        "outputId": "b8fd2939-af75-4c95-e5d4-e287857d2de9"
      },
      "execution_count": 11,
      "outputs": [
        {
          "output_type": "stream",
          "name": "stdout",
          "text": [
            "                               CommonName  Longitude   Latitude\n",
            "0                        Temple Meads Stn  -2.582620  51.448980\n",
            "1                        Temple Meads Stn  -2.581770  51.449440\n",
            "2                        Temple Meads Stn  -2.585790  51.449020\n",
            "3                        Temple Meads Stn  -2.585600  51.450140\n",
            "4                        Temple Meads Stn  -2.584890  51.449670\n",
            "...                                   ...        ...        ...\n",
            "435431    Talbot Road (Blackpool Tramway)  -3.054507  53.819144\n",
            "435432    Talbot Road (Blackpool Tramway)  -3.054537  53.819135\n",
            "435433  North Station (Blackpool Tramway)  -3.050058  53.821035\n",
            "435434  North Station (Blackpool Tramway)  -3.050088  53.821034\n",
            "435435  North Station (Blackpool Tramway)  -3.050027  53.821035\n",
            "\n",
            "[435436 rows x 3 columns]\n"
          ]
        }
      ]
    },
    {
      "cell_type": "code",
      "source": [
        "land_registry_df[\"Price\"] = pd.to_numeric(land_registry_df[\"Price\"], errors=\"coerce\")\n",
        "\n",
        "print(land_registry_df[['Postcode','Price','Town/city','District','County']])"
      ],
      "metadata": {
        "colab": {
          "base_uri": "https://localhost:8080/"
        },
        "id": "TkVXXJgxD0OP",
        "outputId": "b2afc501-eb43-40f4-99d6-1607e3ff6ae0"
      },
      "execution_count": 12,
      "outputs": [
        {
          "output_type": "stream",
          "name": "stdout",
          "text": [
            "        Postcode   Price      Town/city       District          County\n",
            "0       CF14 7BX  330000        CARDIFF        CARDIFF         CARDIFF\n",
            "1       LL28 4SH  269950     COLWYN BAY          CONWY           CONWY\n",
            "2       LL31 9BN  280000          CONWY          CONWY           CONWY\n",
            "3       SA62 6BA  699999  HAVERFORDWEST  PEMBROKESHIRE   PEMBROKESHIRE\n",
            "4       SY16 1QY  160000        NEWTOWN          POWYS           POWYS\n",
            "...          ...     ...            ...            ...             ...\n",
            "812761  LS12 4FJ  235000          LEEDS          LEEDS  WEST YORKSHIRE\n",
            "812762   LS4 2EJ  229995          LEEDS          LEEDS  WEST YORKSHIRE\n",
            "812763   WF7 5QE  253995     PONTEFRACT      WAKEFIELD  WEST YORKSHIRE\n",
            "812764  LS12 4FL  270000          LEEDS          LEEDS  WEST YORKSHIRE\n",
            "812765  LS25 4EP  279995          LEEDS          LEEDS  WEST YORKSHIRE\n",
            "\n",
            "[812766 rows x 5 columns]\n"
          ]
        }
      ]
    },
    {
      "cell_type": "markdown",
      "source": [
        "### Postcodes to latitude & Longitude conversion\n",
        "\n",
        "#### link https://osdatahub.os.uk/downloads/open/CodePointOpen\n"
      ],
      "metadata": {
        "id": "yUGcdLgO7JmG"
      }
    },
    {
      "cell_type": "code",
      "source": [
        "folder_path = \"/content/drive/MyDrive/data science project/CSV/\"\n",
        "csv_files = glob.glob(os.path.join(folder_path, \"*.csv\"))\n",
        "\n",
        "df_list = []\n",
        "for file in csv_files:\n",
        "    temp_df = pd.read_csv(file)\n",
        "    df_list.append(temp_df)\n",
        "\n",
        "\n",
        "d=[]\n",
        "for i in df_list[:-1]:\n",
        "  d.append(i.values)\n",
        "master_columns = ['Postcode','Positional_quality_indicator','Eastings','Northings','Countrycode','NHS_reg_HA_code','NHS_code','Admin_county',\n",
        "                  'Admin_dist','Admin_ward']\n",
        "combined_data = np.concatenate(d, axis=0)\n",
        "df_combined = pd.DataFrame(combined_data,columns = master_columns )"
      ],
      "metadata": {
        "colab": {
          "base_uri": "https://localhost:8080/"
        },
        "id": "wSO3udWGHdAr",
        "outputId": "105217d1-f2dc-475f-8102-9eb20636a3e8"
      },
      "execution_count": 13,
      "outputs": [
        {
          "output_type": "stream",
          "name": "stderr",
          "text": [
            "<ipython-input-13-4ed9e8c58db8>:6: DtypeWarning: Columns (0,4,5,6,7,8,9,10,13,14,15,16,17,20,21,22,25,26,27,30,31,32,33,36,37,38,41,42,43,46,47,48,49,52,53,54,55,56,59,61,62,63,64,67,68,69,72,73) have mixed types. Specify dtype option on import or set low_memory=False.\n",
            "  temp_df = pd.read_csv(file)\n"
          ]
        }
      ]
    },
    {
      "cell_type": "code",
      "source": [
        "df_list[1]"
      ],
      "metadata": {
        "colab": {
          "base_uri": "https://localhost:8080/",
          "height": 423
        },
        "id": "-4VN7YF-WKXK",
        "outputId": "a12bd004-b9ee-4320-c63a-17a3aaaa7de4"
      },
      "execution_count": 14,
      "outputs": [
        {
          "output_type": "execute_result",
          "data": {
            "text/plain": [
              "      BR1 1AA  10  540291  168873  E92000001  E19000003  E18000007 Unnamed: 7  \\\n",
              "0     BR1 1AB  10  540262  169405  E92000001  E19000003  E18000007        NaN   \n",
              "1     BR1 1AE  10  540197  169204  E92000001  E19000003  E18000007        NaN   \n",
              "2     BR1 1AF  10  540259  168855  E92000001  E19000003  E18000007        NaN   \n",
              "3     BR1 1AG  10  540259  168855  E92000001  E19000003  E18000007        NaN   \n",
              "4     BR1 1AH  10  540430  168754  E92000001  E19000003  E18000007        NaN   \n",
              "...       ...  ..     ...     ...        ...        ...        ...        ...   \n",
              "6799  BR8 9DT  10  551403  168554  E92000001  E19000002  E18000008  E10000016   \n",
              "6800  BR8 9DU  10  551403  168554  E92000001  E19000002  E18000008  E10000016   \n",
              "6801  BR8 9EJ  10  551403  168554  E92000001  E19000002  E18000008  E10000016   \n",
              "6802  BR8 9EL  10  551403  168554  E92000001  E19000002  E18000008  E10000016   \n",
              "6803  BR8 9XA  10  551403  168554  E92000001  E19000002  E18000008  E10000016   \n",
              "\n",
              "      E09000006  E05013991  \n",
              "0     E09000006  E05013991  \n",
              "1     E09000006  E05013991  \n",
              "2     E09000006  E05013991  \n",
              "3     E09000006  E05013991  \n",
              "4     E09000006  E05013991  \n",
              "...         ...        ...  \n",
              "6799  E07000111  E05005031  \n",
              "6800  E07000111  E05005031  \n",
              "6801  E07000111  E05005031  \n",
              "6802  E07000111  E05005031  \n",
              "6803  E07000111  E05005031  \n",
              "\n",
              "[6804 rows x 10 columns]"
            ],
            "text/html": [
              "\n",
              "  <div id=\"df-166963e8-c9c6-4bb6-a9e1-f900c58b9ec3\" class=\"colab-df-container\">\n",
              "    <div>\n",
              "<style scoped>\n",
              "    .dataframe tbody tr th:only-of-type {\n",
              "        vertical-align: middle;\n",
              "    }\n",
              "\n",
              "    .dataframe tbody tr th {\n",
              "        vertical-align: top;\n",
              "    }\n",
              "\n",
              "    .dataframe thead th {\n",
              "        text-align: right;\n",
              "    }\n",
              "</style>\n",
              "<table border=\"1\" class=\"dataframe\">\n",
              "  <thead>\n",
              "    <tr style=\"text-align: right;\">\n",
              "      <th></th>\n",
              "      <th>BR1 1AA</th>\n",
              "      <th>10</th>\n",
              "      <th>540291</th>\n",
              "      <th>168873</th>\n",
              "      <th>E92000001</th>\n",
              "      <th>E19000003</th>\n",
              "      <th>E18000007</th>\n",
              "      <th>Unnamed: 7</th>\n",
              "      <th>E09000006</th>\n",
              "      <th>E05013991</th>\n",
              "    </tr>\n",
              "  </thead>\n",
              "  <tbody>\n",
              "    <tr>\n",
              "      <th>0</th>\n",
              "      <td>BR1 1AB</td>\n",
              "      <td>10</td>\n",
              "      <td>540262</td>\n",
              "      <td>169405</td>\n",
              "      <td>E92000001</td>\n",
              "      <td>E19000003</td>\n",
              "      <td>E18000007</td>\n",
              "      <td>NaN</td>\n",
              "      <td>E09000006</td>\n",
              "      <td>E05013991</td>\n",
              "    </tr>\n",
              "    <tr>\n",
              "      <th>1</th>\n",
              "      <td>BR1 1AE</td>\n",
              "      <td>10</td>\n",
              "      <td>540197</td>\n",
              "      <td>169204</td>\n",
              "      <td>E92000001</td>\n",
              "      <td>E19000003</td>\n",
              "      <td>E18000007</td>\n",
              "      <td>NaN</td>\n",
              "      <td>E09000006</td>\n",
              "      <td>E05013991</td>\n",
              "    </tr>\n",
              "    <tr>\n",
              "      <th>2</th>\n",
              "      <td>BR1 1AF</td>\n",
              "      <td>10</td>\n",
              "      <td>540259</td>\n",
              "      <td>168855</td>\n",
              "      <td>E92000001</td>\n",
              "      <td>E19000003</td>\n",
              "      <td>E18000007</td>\n",
              "      <td>NaN</td>\n",
              "      <td>E09000006</td>\n",
              "      <td>E05013991</td>\n",
              "    </tr>\n",
              "    <tr>\n",
              "      <th>3</th>\n",
              "      <td>BR1 1AG</td>\n",
              "      <td>10</td>\n",
              "      <td>540259</td>\n",
              "      <td>168855</td>\n",
              "      <td>E92000001</td>\n",
              "      <td>E19000003</td>\n",
              "      <td>E18000007</td>\n",
              "      <td>NaN</td>\n",
              "      <td>E09000006</td>\n",
              "      <td>E05013991</td>\n",
              "    </tr>\n",
              "    <tr>\n",
              "      <th>4</th>\n",
              "      <td>BR1 1AH</td>\n",
              "      <td>10</td>\n",
              "      <td>540430</td>\n",
              "      <td>168754</td>\n",
              "      <td>E92000001</td>\n",
              "      <td>E19000003</td>\n",
              "      <td>E18000007</td>\n",
              "      <td>NaN</td>\n",
              "      <td>E09000006</td>\n",
              "      <td>E05013991</td>\n",
              "    </tr>\n",
              "    <tr>\n",
              "      <th>...</th>\n",
              "      <td>...</td>\n",
              "      <td>...</td>\n",
              "      <td>...</td>\n",
              "      <td>...</td>\n",
              "      <td>...</td>\n",
              "      <td>...</td>\n",
              "      <td>...</td>\n",
              "      <td>...</td>\n",
              "      <td>...</td>\n",
              "      <td>...</td>\n",
              "    </tr>\n",
              "    <tr>\n",
              "      <th>6799</th>\n",
              "      <td>BR8 9DT</td>\n",
              "      <td>10</td>\n",
              "      <td>551403</td>\n",
              "      <td>168554</td>\n",
              "      <td>E92000001</td>\n",
              "      <td>E19000002</td>\n",
              "      <td>E18000008</td>\n",
              "      <td>E10000016</td>\n",
              "      <td>E07000111</td>\n",
              "      <td>E05005031</td>\n",
              "    </tr>\n",
              "    <tr>\n",
              "      <th>6800</th>\n",
              "      <td>BR8 9DU</td>\n",
              "      <td>10</td>\n",
              "      <td>551403</td>\n",
              "      <td>168554</td>\n",
              "      <td>E92000001</td>\n",
              "      <td>E19000002</td>\n",
              "      <td>E18000008</td>\n",
              "      <td>E10000016</td>\n",
              "      <td>E07000111</td>\n",
              "      <td>E05005031</td>\n",
              "    </tr>\n",
              "    <tr>\n",
              "      <th>6801</th>\n",
              "      <td>BR8 9EJ</td>\n",
              "      <td>10</td>\n",
              "      <td>551403</td>\n",
              "      <td>168554</td>\n",
              "      <td>E92000001</td>\n",
              "      <td>E19000002</td>\n",
              "      <td>E18000008</td>\n",
              "      <td>E10000016</td>\n",
              "      <td>E07000111</td>\n",
              "      <td>E05005031</td>\n",
              "    </tr>\n",
              "    <tr>\n",
              "      <th>6802</th>\n",
              "      <td>BR8 9EL</td>\n",
              "      <td>10</td>\n",
              "      <td>551403</td>\n",
              "      <td>168554</td>\n",
              "      <td>E92000001</td>\n",
              "      <td>E19000002</td>\n",
              "      <td>E18000008</td>\n",
              "      <td>E10000016</td>\n",
              "      <td>E07000111</td>\n",
              "      <td>E05005031</td>\n",
              "    </tr>\n",
              "    <tr>\n",
              "      <th>6803</th>\n",
              "      <td>BR8 9XA</td>\n",
              "      <td>10</td>\n",
              "      <td>551403</td>\n",
              "      <td>168554</td>\n",
              "      <td>E92000001</td>\n",
              "      <td>E19000002</td>\n",
              "      <td>E18000008</td>\n",
              "      <td>E10000016</td>\n",
              "      <td>E07000111</td>\n",
              "      <td>E05005031</td>\n",
              "    </tr>\n",
              "  </tbody>\n",
              "</table>\n",
              "<p>6804 rows × 10 columns</p>\n",
              "</div>\n",
              "    <div class=\"colab-df-buttons\">\n",
              "\n",
              "  <div class=\"colab-df-container\">\n",
              "    <button class=\"colab-df-convert\" onclick=\"convertToInteractive('df-166963e8-c9c6-4bb6-a9e1-f900c58b9ec3')\"\n",
              "            title=\"Convert this dataframe to an interactive table.\"\n",
              "            style=\"display:none;\">\n",
              "\n",
              "  <svg xmlns=\"http://www.w3.org/2000/svg\" height=\"24px\" viewBox=\"0 -960 960 960\">\n",
              "    <path d=\"M120-120v-720h720v720H120Zm60-500h600v-160H180v160Zm220 220h160v-160H400v160Zm0 220h160v-160H400v160ZM180-400h160v-160H180v160Zm440 0h160v-160H620v160ZM180-180h160v-160H180v160Zm440 0h160v-160H620v160Z\"/>\n",
              "  </svg>\n",
              "    </button>\n",
              "\n",
              "  <style>\n",
              "    .colab-df-container {\n",
              "      display:flex;\n",
              "      gap: 12px;\n",
              "    }\n",
              "\n",
              "    .colab-df-convert {\n",
              "      background-color: #E8F0FE;\n",
              "      border: none;\n",
              "      border-radius: 50%;\n",
              "      cursor: pointer;\n",
              "      display: none;\n",
              "      fill: #1967D2;\n",
              "      height: 32px;\n",
              "      padding: 0 0 0 0;\n",
              "      width: 32px;\n",
              "    }\n",
              "\n",
              "    .colab-df-convert:hover {\n",
              "      background-color: #E2EBFA;\n",
              "      box-shadow: 0px 1px 2px rgba(60, 64, 67, 0.3), 0px 1px 3px 1px rgba(60, 64, 67, 0.15);\n",
              "      fill: #174EA6;\n",
              "    }\n",
              "\n",
              "    .colab-df-buttons div {\n",
              "      margin-bottom: 4px;\n",
              "    }\n",
              "\n",
              "    [theme=dark] .colab-df-convert {\n",
              "      background-color: #3B4455;\n",
              "      fill: #D2E3FC;\n",
              "    }\n",
              "\n",
              "    [theme=dark] .colab-df-convert:hover {\n",
              "      background-color: #434B5C;\n",
              "      box-shadow: 0px 1px 3px 1px rgba(0, 0, 0, 0.15);\n",
              "      filter: drop-shadow(0px 1px 2px rgba(0, 0, 0, 0.3));\n",
              "      fill: #FFFFFF;\n",
              "    }\n",
              "  </style>\n",
              "\n",
              "    <script>\n",
              "      const buttonEl =\n",
              "        document.querySelector('#df-166963e8-c9c6-4bb6-a9e1-f900c58b9ec3 button.colab-df-convert');\n",
              "      buttonEl.style.display =\n",
              "        google.colab.kernel.accessAllowed ? 'block' : 'none';\n",
              "\n",
              "      async function convertToInteractive(key) {\n",
              "        const element = document.querySelector('#df-166963e8-c9c6-4bb6-a9e1-f900c58b9ec3');\n",
              "        const dataTable =\n",
              "          await google.colab.kernel.invokeFunction('convertToInteractive',\n",
              "                                                    [key], {});\n",
              "        if (!dataTable) return;\n",
              "\n",
              "        const docLinkHtml = 'Like what you see? Visit the ' +\n",
              "          '<a target=\"_blank\" href=https://colab.research.google.com/notebooks/data_table.ipynb>data table notebook</a>'\n",
              "          + ' to learn more about interactive tables.';\n",
              "        element.innerHTML = '';\n",
              "        dataTable['output_type'] = 'display_data';\n",
              "        await google.colab.output.renderOutput(dataTable, element);\n",
              "        const docLink = document.createElement('div');\n",
              "        docLink.innerHTML = docLinkHtml;\n",
              "        element.appendChild(docLink);\n",
              "      }\n",
              "    </script>\n",
              "  </div>\n",
              "\n",
              "\n",
              "<div id=\"df-9b6c6971-c985-497c-809d-71e52e657ea3\">\n",
              "  <button class=\"colab-df-quickchart\" onclick=\"quickchart('df-9b6c6971-c985-497c-809d-71e52e657ea3')\"\n",
              "            title=\"Suggest charts\"\n",
              "            style=\"display:none;\">\n",
              "\n",
              "<svg xmlns=\"http://www.w3.org/2000/svg\" height=\"24px\"viewBox=\"0 0 24 24\"\n",
              "     width=\"24px\">\n",
              "    <g>\n",
              "        <path d=\"M19 3H5c-1.1 0-2 .9-2 2v14c0 1.1.9 2 2 2h14c1.1 0 2-.9 2-2V5c0-1.1-.9-2-2-2zM9 17H7v-7h2v7zm4 0h-2V7h2v10zm4 0h-2v-4h2v4z\"/>\n",
              "    </g>\n",
              "</svg>\n",
              "  </button>\n",
              "\n",
              "<style>\n",
              "  .colab-df-quickchart {\n",
              "      --bg-color: #E8F0FE;\n",
              "      --fill-color: #1967D2;\n",
              "      --hover-bg-color: #E2EBFA;\n",
              "      --hover-fill-color: #174EA6;\n",
              "      --disabled-fill-color: #AAA;\n",
              "      --disabled-bg-color: #DDD;\n",
              "  }\n",
              "\n",
              "  [theme=dark] .colab-df-quickchart {\n",
              "      --bg-color: #3B4455;\n",
              "      --fill-color: #D2E3FC;\n",
              "      --hover-bg-color: #434B5C;\n",
              "      --hover-fill-color: #FFFFFF;\n",
              "      --disabled-bg-color: #3B4455;\n",
              "      --disabled-fill-color: #666;\n",
              "  }\n",
              "\n",
              "  .colab-df-quickchart {\n",
              "    background-color: var(--bg-color);\n",
              "    border: none;\n",
              "    border-radius: 50%;\n",
              "    cursor: pointer;\n",
              "    display: none;\n",
              "    fill: var(--fill-color);\n",
              "    height: 32px;\n",
              "    padding: 0;\n",
              "    width: 32px;\n",
              "  }\n",
              "\n",
              "  .colab-df-quickchart:hover {\n",
              "    background-color: var(--hover-bg-color);\n",
              "    box-shadow: 0 1px 2px rgba(60, 64, 67, 0.3), 0 1px 3px 1px rgba(60, 64, 67, 0.15);\n",
              "    fill: var(--button-hover-fill-color);\n",
              "  }\n",
              "\n",
              "  .colab-df-quickchart-complete:disabled,\n",
              "  .colab-df-quickchart-complete:disabled:hover {\n",
              "    background-color: var(--disabled-bg-color);\n",
              "    fill: var(--disabled-fill-color);\n",
              "    box-shadow: none;\n",
              "  }\n",
              "\n",
              "  .colab-df-spinner {\n",
              "    border: 2px solid var(--fill-color);\n",
              "    border-color: transparent;\n",
              "    border-bottom-color: var(--fill-color);\n",
              "    animation:\n",
              "      spin 1s steps(1) infinite;\n",
              "  }\n",
              "\n",
              "  @keyframes spin {\n",
              "    0% {\n",
              "      border-color: transparent;\n",
              "      border-bottom-color: var(--fill-color);\n",
              "      border-left-color: var(--fill-color);\n",
              "    }\n",
              "    20% {\n",
              "      border-color: transparent;\n",
              "      border-left-color: var(--fill-color);\n",
              "      border-top-color: var(--fill-color);\n",
              "    }\n",
              "    30% {\n",
              "      border-color: transparent;\n",
              "      border-left-color: var(--fill-color);\n",
              "      border-top-color: var(--fill-color);\n",
              "      border-right-color: var(--fill-color);\n",
              "    }\n",
              "    40% {\n",
              "      border-color: transparent;\n",
              "      border-right-color: var(--fill-color);\n",
              "      border-top-color: var(--fill-color);\n",
              "    }\n",
              "    60% {\n",
              "      border-color: transparent;\n",
              "      border-right-color: var(--fill-color);\n",
              "    }\n",
              "    80% {\n",
              "      border-color: transparent;\n",
              "      border-right-color: var(--fill-color);\n",
              "      border-bottom-color: var(--fill-color);\n",
              "    }\n",
              "    90% {\n",
              "      border-color: transparent;\n",
              "      border-bottom-color: var(--fill-color);\n",
              "    }\n",
              "  }\n",
              "</style>\n",
              "\n",
              "  <script>\n",
              "    async function quickchart(key) {\n",
              "      const quickchartButtonEl =\n",
              "        document.querySelector('#' + key + ' button');\n",
              "      quickchartButtonEl.disabled = true;  // To prevent multiple clicks.\n",
              "      quickchartButtonEl.classList.add('colab-df-spinner');\n",
              "      try {\n",
              "        const charts = await google.colab.kernel.invokeFunction(\n",
              "            'suggestCharts', [key], {});\n",
              "      } catch (error) {\n",
              "        console.error('Error during call to suggestCharts:', error);\n",
              "      }\n",
              "      quickchartButtonEl.classList.remove('colab-df-spinner');\n",
              "      quickchartButtonEl.classList.add('colab-df-quickchart-complete');\n",
              "    }\n",
              "    (() => {\n",
              "      let quickchartButtonEl =\n",
              "        document.querySelector('#df-9b6c6971-c985-497c-809d-71e52e657ea3 button');\n",
              "      quickchartButtonEl.style.display =\n",
              "        google.colab.kernel.accessAllowed ? 'block' : 'none';\n",
              "    })();\n",
              "  </script>\n",
              "</div>\n",
              "\n",
              "    </div>\n",
              "  </div>\n"
            ],
            "application/vnd.google.colaboratory.intrinsic+json": {
              "type": "dataframe",
              "summary": "{\n  \"name\": \"df_list[1]\",\n  \"rows\": 6804,\n  \"fields\": [\n    {\n      \"column\": \"BR1 1AA\",\n      \"properties\": {\n        \"dtype\": \"string\",\n        \"num_unique_values\": 6804,\n        \"samples\": [\n          \"BR3 3EW\",\n          \"BR5 2AZ\",\n          \"BR3 1PH\"\n        ],\n        \"semantic_type\": \"\",\n        \"description\": \"\"\n      }\n    },\n    {\n      \"column\": \"10\",\n      \"properties\": {\n        \"dtype\": \"number\",\n        \"std\": 0,\n        \"min\": 10,\n        \"max\": 50,\n        \"num_unique_values\": 2,\n        \"samples\": [\n          50,\n          10\n        ],\n        \"semantic_type\": \"\",\n        \"description\": \"\"\n      }\n    },\n    {\n      \"column\": \"540291\",\n      \"properties\": {\n        \"dtype\": \"number\",\n        \"std\": 4186,\n        \"min\": 535265,\n        \"max\": 554020,\n        \"num_unique_values\": 5175,\n        \"samples\": [\n          538257,\n          550602\n        ],\n        \"semantic_type\": \"\",\n        \"description\": \"\"\n      }\n    },\n    {\n      \"column\": \"168873\",\n      \"properties\": {\n        \"dtype\": \"number\",\n        \"std\": 2154,\n        \"min\": 160159,\n        \"max\": 172519,\n        \"num_unique_values\": 4399,\n        \"samples\": [\n          167494,\n          164816\n        ],\n        \"semantic_type\": \"\",\n        \"description\": \"\"\n      }\n    },\n    {\n      \"column\": \"E92000001\",\n      \"properties\": {\n        \"dtype\": \"category\",\n        \"num_unique_values\": 1,\n        \"samples\": [\n          \"E92000001\"\n        ],\n        \"semantic_type\": \"\",\n        \"description\": \"\"\n      }\n    },\n    {\n      \"column\": \"E19000003\",\n      \"properties\": {\n        \"dtype\": \"category\",\n        \"num_unique_values\": 2,\n        \"samples\": [\n          \"E19000002\"\n        ],\n        \"semantic_type\": \"\",\n        \"description\": \"\"\n      }\n    },\n    {\n      \"column\": \"E18000007\",\n      \"properties\": {\n        \"dtype\": \"category\",\n        \"num_unique_values\": 2,\n        \"samples\": [\n          \"E18000008\"\n        ],\n        \"semantic_type\": \"\",\n        \"description\": \"\"\n      }\n    },\n    {\n      \"column\": \"Unnamed: 7\",\n      \"properties\": {\n        \"dtype\": \"category\",\n        \"num_unique_values\": 1,\n        \"samples\": [\n          \"E10000016\"\n        ],\n        \"semantic_type\": \"\",\n        \"description\": \"\"\n      }\n    },\n    {\n      \"column\": \"E09000006\",\n      \"properties\": {\n        \"dtype\": \"category\",\n        \"num_unique_values\": 6,\n        \"samples\": [\n          \"E09000006\"\n        ],\n        \"semantic_type\": \"\",\n        \"description\": \"\"\n      }\n    },\n    {\n      \"column\": \"E05013991\",\n      \"properties\": {\n        \"dtype\": \"category\",\n        \"num_unique_values\": 35,\n        \"samples\": [\n          \"E05005011\"\n        ],\n        \"semantic_type\": \"\",\n        \"description\": \"\"\n      }\n    }\n  ]\n}"
            }
          },
          "metadata": {},
          "execution_count": 14
        }
      ]
    },
    {
      "cell_type": "code",
      "source": [
        "df_combined"
      ],
      "metadata": {
        "colab": {
          "base_uri": "https://localhost:8080/",
          "height": 423
        },
        "id": "pdSi1olhHYau",
        "outputId": "316a4247-d131-494a-df33-2e0dd785ab63"
      },
      "execution_count": 15,
      "outputs": [
        {
          "output_type": "execute_result",
          "data": {
            "text/plain": [
              "        Postcode Positional_quality_indicator Eastings Northings Countrycode  \\\n",
              "0         B1 1BA                           10   406875    286393   E92000001   \n",
              "1         B1 1BB                           10   406654    286948   E92000001   \n",
              "2         B1 1BD                           10   406689    286781   E92000001   \n",
              "3         B1 1BE                           10   406721    286611   E92000001   \n",
              "4         B1 1BL                           10   406779    286550   E92000001   \n",
              "...          ...                          ...      ...       ...         ...   \n",
              "1742600  TS9 7LL                           10   458129    495552   E92000001   \n",
              "1742601  TS9 7LN                           10   458201    496162   E92000001   \n",
              "1742602  TS9 7LQ                           10   457418    493546   E92000001   \n",
              "1742603  TS9 7LW                           10   458229    497257   E92000001   \n",
              "1742604  TS9 7NA                           10   454802    506431   E92000001   \n",
              "\n",
              "        NHS_reg_HA_code   NHS_code Admin_county Admin_dist Admin_ward  \n",
              "0             E19000001  E18000005          NaN  E08000025  E05011151  \n",
              "1             E19000001  E18000005          NaN  E08000025  E05011151  \n",
              "2             E19000001  E18000005          NaN  E08000025  E05011151  \n",
              "3             E19000001  E18000005          NaN  E08000025  E05011151  \n",
              "4             E19000001  E18000005          NaN  E08000025  E05011151  \n",
              "...                 ...        ...          ...        ...        ...  \n",
              "1742600       E19000001  E18000003          NaN  E06000065  E05014276  \n",
              "1742601       E19000001  E18000003          NaN  E06000065  E05014276  \n",
              "1742602       E19000001  E18000003          NaN  E06000065  E05014276  \n",
              "1742603       E19000001  E18000003          NaN  E06000065  E05014276  \n",
              "1742604       E19000001  E18000003          NaN  E06000065  E05014325  \n",
              "\n",
              "[1742605 rows x 10 columns]"
            ],
            "text/html": [
              "\n",
              "  <div id=\"df-68c119b1-363b-4634-82b1-f464ae172b68\" class=\"colab-df-container\">\n",
              "    <div>\n",
              "<style scoped>\n",
              "    .dataframe tbody tr th:only-of-type {\n",
              "        vertical-align: middle;\n",
              "    }\n",
              "\n",
              "    .dataframe tbody tr th {\n",
              "        vertical-align: top;\n",
              "    }\n",
              "\n",
              "    .dataframe thead th {\n",
              "        text-align: right;\n",
              "    }\n",
              "</style>\n",
              "<table border=\"1\" class=\"dataframe\">\n",
              "  <thead>\n",
              "    <tr style=\"text-align: right;\">\n",
              "      <th></th>\n",
              "      <th>Postcode</th>\n",
              "      <th>Positional_quality_indicator</th>\n",
              "      <th>Eastings</th>\n",
              "      <th>Northings</th>\n",
              "      <th>Countrycode</th>\n",
              "      <th>NHS_reg_HA_code</th>\n",
              "      <th>NHS_code</th>\n",
              "      <th>Admin_county</th>\n",
              "      <th>Admin_dist</th>\n",
              "      <th>Admin_ward</th>\n",
              "    </tr>\n",
              "  </thead>\n",
              "  <tbody>\n",
              "    <tr>\n",
              "      <th>0</th>\n",
              "      <td>B1 1BA</td>\n",
              "      <td>10</td>\n",
              "      <td>406875</td>\n",
              "      <td>286393</td>\n",
              "      <td>E92000001</td>\n",
              "      <td>E19000001</td>\n",
              "      <td>E18000005</td>\n",
              "      <td>NaN</td>\n",
              "      <td>E08000025</td>\n",
              "      <td>E05011151</td>\n",
              "    </tr>\n",
              "    <tr>\n",
              "      <th>1</th>\n",
              "      <td>B1 1BB</td>\n",
              "      <td>10</td>\n",
              "      <td>406654</td>\n",
              "      <td>286948</td>\n",
              "      <td>E92000001</td>\n",
              "      <td>E19000001</td>\n",
              "      <td>E18000005</td>\n",
              "      <td>NaN</td>\n",
              "      <td>E08000025</td>\n",
              "      <td>E05011151</td>\n",
              "    </tr>\n",
              "    <tr>\n",
              "      <th>2</th>\n",
              "      <td>B1 1BD</td>\n",
              "      <td>10</td>\n",
              "      <td>406689</td>\n",
              "      <td>286781</td>\n",
              "      <td>E92000001</td>\n",
              "      <td>E19000001</td>\n",
              "      <td>E18000005</td>\n",
              "      <td>NaN</td>\n",
              "      <td>E08000025</td>\n",
              "      <td>E05011151</td>\n",
              "    </tr>\n",
              "    <tr>\n",
              "      <th>3</th>\n",
              "      <td>B1 1BE</td>\n",
              "      <td>10</td>\n",
              "      <td>406721</td>\n",
              "      <td>286611</td>\n",
              "      <td>E92000001</td>\n",
              "      <td>E19000001</td>\n",
              "      <td>E18000005</td>\n",
              "      <td>NaN</td>\n",
              "      <td>E08000025</td>\n",
              "      <td>E05011151</td>\n",
              "    </tr>\n",
              "    <tr>\n",
              "      <th>4</th>\n",
              "      <td>B1 1BL</td>\n",
              "      <td>10</td>\n",
              "      <td>406779</td>\n",
              "      <td>286550</td>\n",
              "      <td>E92000001</td>\n",
              "      <td>E19000001</td>\n",
              "      <td>E18000005</td>\n",
              "      <td>NaN</td>\n",
              "      <td>E08000025</td>\n",
              "      <td>E05011151</td>\n",
              "    </tr>\n",
              "    <tr>\n",
              "      <th>...</th>\n",
              "      <td>...</td>\n",
              "      <td>...</td>\n",
              "      <td>...</td>\n",
              "      <td>...</td>\n",
              "      <td>...</td>\n",
              "      <td>...</td>\n",
              "      <td>...</td>\n",
              "      <td>...</td>\n",
              "      <td>...</td>\n",
              "      <td>...</td>\n",
              "    </tr>\n",
              "    <tr>\n",
              "      <th>1742600</th>\n",
              "      <td>TS9 7LL</td>\n",
              "      <td>10</td>\n",
              "      <td>458129</td>\n",
              "      <td>495552</td>\n",
              "      <td>E92000001</td>\n",
              "      <td>E19000001</td>\n",
              "      <td>E18000003</td>\n",
              "      <td>NaN</td>\n",
              "      <td>E06000065</td>\n",
              "      <td>E05014276</td>\n",
              "    </tr>\n",
              "    <tr>\n",
              "      <th>1742601</th>\n",
              "      <td>TS9 7LN</td>\n",
              "      <td>10</td>\n",
              "      <td>458201</td>\n",
              "      <td>496162</td>\n",
              "      <td>E92000001</td>\n",
              "      <td>E19000001</td>\n",
              "      <td>E18000003</td>\n",
              "      <td>NaN</td>\n",
              "      <td>E06000065</td>\n",
              "      <td>E05014276</td>\n",
              "    </tr>\n",
              "    <tr>\n",
              "      <th>1742602</th>\n",
              "      <td>TS9 7LQ</td>\n",
              "      <td>10</td>\n",
              "      <td>457418</td>\n",
              "      <td>493546</td>\n",
              "      <td>E92000001</td>\n",
              "      <td>E19000001</td>\n",
              "      <td>E18000003</td>\n",
              "      <td>NaN</td>\n",
              "      <td>E06000065</td>\n",
              "      <td>E05014276</td>\n",
              "    </tr>\n",
              "    <tr>\n",
              "      <th>1742603</th>\n",
              "      <td>TS9 7LW</td>\n",
              "      <td>10</td>\n",
              "      <td>458229</td>\n",
              "      <td>497257</td>\n",
              "      <td>E92000001</td>\n",
              "      <td>E19000001</td>\n",
              "      <td>E18000003</td>\n",
              "      <td>NaN</td>\n",
              "      <td>E06000065</td>\n",
              "      <td>E05014276</td>\n",
              "    </tr>\n",
              "    <tr>\n",
              "      <th>1742604</th>\n",
              "      <td>TS9 7NA</td>\n",
              "      <td>10</td>\n",
              "      <td>454802</td>\n",
              "      <td>506431</td>\n",
              "      <td>E92000001</td>\n",
              "      <td>E19000001</td>\n",
              "      <td>E18000003</td>\n",
              "      <td>NaN</td>\n",
              "      <td>E06000065</td>\n",
              "      <td>E05014325</td>\n",
              "    </tr>\n",
              "  </tbody>\n",
              "</table>\n",
              "<p>1742605 rows × 10 columns</p>\n",
              "</div>\n",
              "    <div class=\"colab-df-buttons\">\n",
              "\n",
              "  <div class=\"colab-df-container\">\n",
              "    <button class=\"colab-df-convert\" onclick=\"convertToInteractive('df-68c119b1-363b-4634-82b1-f464ae172b68')\"\n",
              "            title=\"Convert this dataframe to an interactive table.\"\n",
              "            style=\"display:none;\">\n",
              "\n",
              "  <svg xmlns=\"http://www.w3.org/2000/svg\" height=\"24px\" viewBox=\"0 -960 960 960\">\n",
              "    <path d=\"M120-120v-720h720v720H120Zm60-500h600v-160H180v160Zm220 220h160v-160H400v160Zm0 220h160v-160H400v160ZM180-400h160v-160H180v160Zm440 0h160v-160H620v160ZM180-180h160v-160H180v160Zm440 0h160v-160H620v160Z\"/>\n",
              "  </svg>\n",
              "    </button>\n",
              "\n",
              "  <style>\n",
              "    .colab-df-container {\n",
              "      display:flex;\n",
              "      gap: 12px;\n",
              "    }\n",
              "\n",
              "    .colab-df-convert {\n",
              "      background-color: #E8F0FE;\n",
              "      border: none;\n",
              "      border-radius: 50%;\n",
              "      cursor: pointer;\n",
              "      display: none;\n",
              "      fill: #1967D2;\n",
              "      height: 32px;\n",
              "      padding: 0 0 0 0;\n",
              "      width: 32px;\n",
              "    }\n",
              "\n",
              "    .colab-df-convert:hover {\n",
              "      background-color: #E2EBFA;\n",
              "      box-shadow: 0px 1px 2px rgba(60, 64, 67, 0.3), 0px 1px 3px 1px rgba(60, 64, 67, 0.15);\n",
              "      fill: #174EA6;\n",
              "    }\n",
              "\n",
              "    .colab-df-buttons div {\n",
              "      margin-bottom: 4px;\n",
              "    }\n",
              "\n",
              "    [theme=dark] .colab-df-convert {\n",
              "      background-color: #3B4455;\n",
              "      fill: #D2E3FC;\n",
              "    }\n",
              "\n",
              "    [theme=dark] .colab-df-convert:hover {\n",
              "      background-color: #434B5C;\n",
              "      box-shadow: 0px 1px 3px 1px rgba(0, 0, 0, 0.15);\n",
              "      filter: drop-shadow(0px 1px 2px rgba(0, 0, 0, 0.3));\n",
              "      fill: #FFFFFF;\n",
              "    }\n",
              "  </style>\n",
              "\n",
              "    <script>\n",
              "      const buttonEl =\n",
              "        document.querySelector('#df-68c119b1-363b-4634-82b1-f464ae172b68 button.colab-df-convert');\n",
              "      buttonEl.style.display =\n",
              "        google.colab.kernel.accessAllowed ? 'block' : 'none';\n",
              "\n",
              "      async function convertToInteractive(key) {\n",
              "        const element = document.querySelector('#df-68c119b1-363b-4634-82b1-f464ae172b68');\n",
              "        const dataTable =\n",
              "          await google.colab.kernel.invokeFunction('convertToInteractive',\n",
              "                                                    [key], {});\n",
              "        if (!dataTable) return;\n",
              "\n",
              "        const docLinkHtml = 'Like what you see? Visit the ' +\n",
              "          '<a target=\"_blank\" href=https://colab.research.google.com/notebooks/data_table.ipynb>data table notebook</a>'\n",
              "          + ' to learn more about interactive tables.';\n",
              "        element.innerHTML = '';\n",
              "        dataTable['output_type'] = 'display_data';\n",
              "        await google.colab.output.renderOutput(dataTable, element);\n",
              "        const docLink = document.createElement('div');\n",
              "        docLink.innerHTML = docLinkHtml;\n",
              "        element.appendChild(docLink);\n",
              "      }\n",
              "    </script>\n",
              "  </div>\n",
              "\n",
              "\n",
              "<div id=\"df-082450c6-68e4-4743-af44-d066c3661057\">\n",
              "  <button class=\"colab-df-quickchart\" onclick=\"quickchart('df-082450c6-68e4-4743-af44-d066c3661057')\"\n",
              "            title=\"Suggest charts\"\n",
              "            style=\"display:none;\">\n",
              "\n",
              "<svg xmlns=\"http://www.w3.org/2000/svg\" height=\"24px\"viewBox=\"0 0 24 24\"\n",
              "     width=\"24px\">\n",
              "    <g>\n",
              "        <path d=\"M19 3H5c-1.1 0-2 .9-2 2v14c0 1.1.9 2 2 2h14c1.1 0 2-.9 2-2V5c0-1.1-.9-2-2-2zM9 17H7v-7h2v7zm4 0h-2V7h2v10zm4 0h-2v-4h2v4z\"/>\n",
              "    </g>\n",
              "</svg>\n",
              "  </button>\n",
              "\n",
              "<style>\n",
              "  .colab-df-quickchart {\n",
              "      --bg-color: #E8F0FE;\n",
              "      --fill-color: #1967D2;\n",
              "      --hover-bg-color: #E2EBFA;\n",
              "      --hover-fill-color: #174EA6;\n",
              "      --disabled-fill-color: #AAA;\n",
              "      --disabled-bg-color: #DDD;\n",
              "  }\n",
              "\n",
              "  [theme=dark] .colab-df-quickchart {\n",
              "      --bg-color: #3B4455;\n",
              "      --fill-color: #D2E3FC;\n",
              "      --hover-bg-color: #434B5C;\n",
              "      --hover-fill-color: #FFFFFF;\n",
              "      --disabled-bg-color: #3B4455;\n",
              "      --disabled-fill-color: #666;\n",
              "  }\n",
              "\n",
              "  .colab-df-quickchart {\n",
              "    background-color: var(--bg-color);\n",
              "    border: none;\n",
              "    border-radius: 50%;\n",
              "    cursor: pointer;\n",
              "    display: none;\n",
              "    fill: var(--fill-color);\n",
              "    height: 32px;\n",
              "    padding: 0;\n",
              "    width: 32px;\n",
              "  }\n",
              "\n",
              "  .colab-df-quickchart:hover {\n",
              "    background-color: var(--hover-bg-color);\n",
              "    box-shadow: 0 1px 2px rgba(60, 64, 67, 0.3), 0 1px 3px 1px rgba(60, 64, 67, 0.15);\n",
              "    fill: var(--button-hover-fill-color);\n",
              "  }\n",
              "\n",
              "  .colab-df-quickchart-complete:disabled,\n",
              "  .colab-df-quickchart-complete:disabled:hover {\n",
              "    background-color: var(--disabled-bg-color);\n",
              "    fill: var(--disabled-fill-color);\n",
              "    box-shadow: none;\n",
              "  }\n",
              "\n",
              "  .colab-df-spinner {\n",
              "    border: 2px solid var(--fill-color);\n",
              "    border-color: transparent;\n",
              "    border-bottom-color: var(--fill-color);\n",
              "    animation:\n",
              "      spin 1s steps(1) infinite;\n",
              "  }\n",
              "\n",
              "  @keyframes spin {\n",
              "    0% {\n",
              "      border-color: transparent;\n",
              "      border-bottom-color: var(--fill-color);\n",
              "      border-left-color: var(--fill-color);\n",
              "    }\n",
              "    20% {\n",
              "      border-color: transparent;\n",
              "      border-left-color: var(--fill-color);\n",
              "      border-top-color: var(--fill-color);\n",
              "    }\n",
              "    30% {\n",
              "      border-color: transparent;\n",
              "      border-left-color: var(--fill-color);\n",
              "      border-top-color: var(--fill-color);\n",
              "      border-right-color: var(--fill-color);\n",
              "    }\n",
              "    40% {\n",
              "      border-color: transparent;\n",
              "      border-right-color: var(--fill-color);\n",
              "      border-top-color: var(--fill-color);\n",
              "    }\n",
              "    60% {\n",
              "      border-color: transparent;\n",
              "      border-right-color: var(--fill-color);\n",
              "    }\n",
              "    80% {\n",
              "      border-color: transparent;\n",
              "      border-right-color: var(--fill-color);\n",
              "      border-bottom-color: var(--fill-color);\n",
              "    }\n",
              "    90% {\n",
              "      border-color: transparent;\n",
              "      border-bottom-color: var(--fill-color);\n",
              "    }\n",
              "  }\n",
              "</style>\n",
              "\n",
              "  <script>\n",
              "    async function quickchart(key) {\n",
              "      const quickchartButtonEl =\n",
              "        document.querySelector('#' + key + ' button');\n",
              "      quickchartButtonEl.disabled = true;  // To prevent multiple clicks.\n",
              "      quickchartButtonEl.classList.add('colab-df-spinner');\n",
              "      try {\n",
              "        const charts = await google.colab.kernel.invokeFunction(\n",
              "            'suggestCharts', [key], {});\n",
              "      } catch (error) {\n",
              "        console.error('Error during call to suggestCharts:', error);\n",
              "      }\n",
              "      quickchartButtonEl.classList.remove('colab-df-spinner');\n",
              "      quickchartButtonEl.classList.add('colab-df-quickchart-complete');\n",
              "    }\n",
              "    (() => {\n",
              "      let quickchartButtonEl =\n",
              "        document.querySelector('#df-082450c6-68e4-4743-af44-d066c3661057 button');\n",
              "      quickchartButtonEl.style.display =\n",
              "        google.colab.kernel.accessAllowed ? 'block' : 'none';\n",
              "    })();\n",
              "  </script>\n",
              "</div>\n",
              "\n",
              "  <div id=\"id_2519c6e8-9fef-41a7-a927-02dc65f8d6a3\">\n",
              "    <style>\n",
              "      .colab-df-generate {\n",
              "        background-color: #E8F0FE;\n",
              "        border: none;\n",
              "        border-radius: 50%;\n",
              "        cursor: pointer;\n",
              "        display: none;\n",
              "        fill: #1967D2;\n",
              "        height: 32px;\n",
              "        padding: 0 0 0 0;\n",
              "        width: 32px;\n",
              "      }\n",
              "\n",
              "      .colab-df-generate:hover {\n",
              "        background-color: #E2EBFA;\n",
              "        box-shadow: 0px 1px 2px rgba(60, 64, 67, 0.3), 0px 1px 3px 1px rgba(60, 64, 67, 0.15);\n",
              "        fill: #174EA6;\n",
              "      }\n",
              "\n",
              "      [theme=dark] .colab-df-generate {\n",
              "        background-color: #3B4455;\n",
              "        fill: #D2E3FC;\n",
              "      }\n",
              "\n",
              "      [theme=dark] .colab-df-generate:hover {\n",
              "        background-color: #434B5C;\n",
              "        box-shadow: 0px 1px 3px 1px rgba(0, 0, 0, 0.15);\n",
              "        filter: drop-shadow(0px 1px 2px rgba(0, 0, 0, 0.3));\n",
              "        fill: #FFFFFF;\n",
              "      }\n",
              "    </style>\n",
              "    <button class=\"colab-df-generate\" onclick=\"generateWithVariable('df_combined')\"\n",
              "            title=\"Generate code using this dataframe.\"\n",
              "            style=\"display:none;\">\n",
              "\n",
              "  <svg xmlns=\"http://www.w3.org/2000/svg\" height=\"24px\"viewBox=\"0 0 24 24\"\n",
              "       width=\"24px\">\n",
              "    <path d=\"M7,19H8.4L18.45,9,17,7.55,7,17.6ZM5,21V16.75L18.45,3.32a2,2,0,0,1,2.83,0l1.4,1.43a1.91,1.91,0,0,1,.58,1.4,1.91,1.91,0,0,1-.58,1.4L9.25,21ZM18.45,9,17,7.55Zm-12,3A5.31,5.31,0,0,0,4.9,8.1,5.31,5.31,0,0,0,1,6.5,5.31,5.31,0,0,0,4.9,4.9,5.31,5.31,0,0,0,6.5,1,5.31,5.31,0,0,0,8.1,4.9,5.31,5.31,0,0,0,12,6.5,5.46,5.46,0,0,0,6.5,12Z\"/>\n",
              "  </svg>\n",
              "    </button>\n",
              "    <script>\n",
              "      (() => {\n",
              "      const buttonEl =\n",
              "        document.querySelector('#id_2519c6e8-9fef-41a7-a927-02dc65f8d6a3 button.colab-df-generate');\n",
              "      buttonEl.style.display =\n",
              "        google.colab.kernel.accessAllowed ? 'block' : 'none';\n",
              "\n",
              "      buttonEl.onclick = () => {\n",
              "        google.colab.notebook.generateWithVariable('df_combined');\n",
              "      }\n",
              "      })();\n",
              "    </script>\n",
              "  </div>\n",
              "\n",
              "    </div>\n",
              "  </div>\n"
            ],
            "application/vnd.google.colaboratory.intrinsic+json": {
              "type": "dataframe",
              "variable_name": "df_combined"
            }
          },
          "metadata": {},
          "execution_count": 15
        }
      ]
    },
    {
      "cell_type": "code",
      "source": [
        "transformer = Transformer.from_crs(\"EPSG:27700\", \"EPSG:4326\", always_xy=True)\n",
        "\n",
        "coor= []\n",
        "for i,j in df_combined[['Eastings','Northings']].values:\n",
        "  lon, lat = transformer.transform(i, j)\n",
        "  coor.append([lon,lat])\n",
        "\n",
        "new_columns = pd.DataFrame(coor, columns=['Longitude_prop', 'Latitude_prop'])\n",
        "\n",
        "rep = pd.concat([new_columns] * (len(df_combined) // len(new_columns) + 1), ignore_index=True).head(len(df_combined))\n",
        "all_postcodes = pd.concat([df_combined, rep], axis=1)"
      ],
      "metadata": {
        "id": "fIOS-bDkYCEp"
      },
      "execution_count": 16,
      "outputs": []
    },
    {
      "cell_type": "code",
      "source": [
        "df_merged = land_registry_df.merge(all_postcodes[['Postcode','Longitude_prop','Latitude_prop']], on='Postcode', how='inner')\n",
        "\n",
        "print(\"\\nMerged DataFrame (Inner Join):\")\n",
        "print(df_merged)"
      ],
      "metadata": {
        "colab": {
          "base_uri": "https://localhost:8080/"
        },
        "id": "koqDi4KahD9X",
        "outputId": "e8c01982-ab16-4fa4-fc7c-4d5a611ae625"
      },
      "execution_count": 17,
      "outputs": [
        {
          "output_type": "stream",
          "name": "stdout",
          "text": [
            "\n",
            "Merged DataFrame (Inner Join):\n",
            "                 Transaction unique identifier   Price  Date of Transfer  \\\n",
            "0       {06C9F487-D94B-9388-E063-4804A8C0BD98}  330000  2023-03-20 00:00   \n",
            "1       {06C9F487-D94C-9388-E063-4804A8C0BD98}  269950  2023-07-25 00:00   \n",
            "2       {06C9F487-D94D-9388-E063-4804A8C0BD98}  280000  2023-08-10 00:00   \n",
            "3       {06C9F487-D94E-9388-E063-4804A8C0BD98}  699999  2023-08-24 00:00   \n",
            "4       {06C9F487-D94F-9388-E063-4804A8C0BD98}  160000  2023-08-21 00:00   \n",
            "...                                        ...     ...               ...   \n",
            "809924  {152AB734-65BF-E651-E063-4704A8C061D9}  235000  2023-03-07 00:00   \n",
            "809925  {152AB734-65C0-E651-E063-4704A8C061D9}  229995  2023-04-21 00:00   \n",
            "809926  {152AB734-65C2-E651-E063-4704A8C061D9}  253995  2023-04-24 00:00   \n",
            "809927  {152AB734-65C3-E651-E063-4704A8C061D9}  270000  2023-03-24 00:00   \n",
            "809928  {152AB734-65C4-E651-E063-4704A8C061D9}  279995  2023-05-19 00:00   \n",
            "\n",
            "        Postcode PropertyType Old/New Duration                    PAON  \\\n",
            "0       CF14 7BX            T       N        F                      32   \n",
            "1       LL28 4SH            D       N        F                       7   \n",
            "2       LL31 9BN            D       N        F             PLAS COLWYN   \n",
            "3       SA62 6BA            D       N        F         MIDDLE LOCHVANE   \n",
            "4       SY16 1QY            T       N        F                     167   \n",
            "...          ...          ...     ...      ...                     ...   \n",
            "809924  LS12 4FJ            T       Y        F                      37   \n",
            "809925   LS4 2EJ            F       Y        L  BLOCK B ALEXANDRA PARK   \n",
            "809926   WF7 5QE            D       Y        F                       4   \n",
            "809927  LS12 4FL            T       Y        F                      19   \n",
            "809928  LS25 4EP            S       Y        F                      44   \n",
            "\n",
            "             SAON             Street      Locality      Town/city  \\\n",
            "0             NaN  HEOL PANT Y CELYN           NaN        CARDIFF   \n",
            "1             NaN      MARSTON DRIVE   RHOS ON SEA     COLWYN BAY   \n",
            "2             NaN         LLYS HELYG       DEGANWY          CONWY   \n",
            "3             NaN                NaN     PEN Y CWM  HAVERFORDWEST   \n",
            "4             NaN        LON DOLAFON           NaN        NEWTOWN   \n",
            "...           ...                ...           ...            ...   \n",
            "809924        NaN         BOBBIN ROW           NaN          LEEDS   \n",
            "809925  FLAT B204        WILLOW ROAD           NaN          LEEDS   \n",
            "809926        NaN        MILLER ROAD  FEATHERSTONE     PONTEFRACT   \n",
            "809927        NaN   PARK MEADOW LANE           NaN          LEEDS   \n",
            "809928        NaN        WADDLE ROAD   MICKLEFIELD          LEEDS   \n",
            "\n",
            "             District          County PPD Category Type  \\\n",
            "0             CARDIFF         CARDIFF                 A   \n",
            "1               CONWY           CONWY                 A   \n",
            "2               CONWY           CONWY                 A   \n",
            "3       PEMBROKESHIRE   PEMBROKESHIRE                 A   \n",
            "4               POWYS           POWYS                 A   \n",
            "...               ...             ...               ...   \n",
            "809924          LEEDS  WEST YORKSHIRE                 A   \n",
            "809925          LEEDS  WEST YORKSHIRE                 A   \n",
            "809926      WAKEFIELD  WEST YORKSHIRE                 A   \n",
            "809927          LEEDS  WEST YORKSHIRE                 A   \n",
            "809928          LEEDS  WEST YORKSHIRE                 A   \n",
            "\n",
            "       Record Status-monthly file only  Longitude_prop  Latitude_prop  \n",
            "0                                    A       -3.230427      51.521780  \n",
            "1                                    A       -3.758625      53.307721  \n",
            "2                                    A       -3.834173      53.300155  \n",
            "3                                    A       -5.165292      51.870469  \n",
            "4                                    A       -3.341036      52.508779  \n",
            "...                                ...             ...            ...  \n",
            "809924                               A       -1.612370      53.791536  \n",
            "809925                               A       -1.575933      53.805668  \n",
            "809926                               A       -1.352843      53.678055  \n",
            "809927                               A       -1.610767      53.790928  \n",
            "809928                               A       -1.331682      53.798273  \n",
            "\n",
            "[809929 rows x 18 columns]\n"
          ]
        }
      ]
    },
    {
      "cell_type": "code",
      "source": [
        "schools.rename(columns={'POSTCODE': 'Postcode'}, inplace=True)"
      ],
      "metadata": {
        "id": "oDoCLCZ_HAXl"
      },
      "execution_count": 18,
      "outputs": []
    },
    {
      "cell_type": "code",
      "source": [
        "school_merged = schools.merge(all_postcodes[['Postcode','Longitude_prop','Latitude_prop']], on='Postcode', how='inner')\n",
        "\n",
        "print(\"\\nMerged DataFrame (Inner Join):\")\n",
        "print(school_merged)"
      ],
      "metadata": {
        "colab": {
          "base_uri": "https://localhost:8080/"
        },
        "id": "la-W0KHZGZ29",
        "outputId": "1ebf3c75-fd05-453d-eb36-4403624793a5"
      },
      "execution_count": 19,
      "outputs": [
        {
          "output_type": "stream",
          "name": "stdout",
          "text": [
            "\n",
            "Merged DataFrame (Inner Join):\n",
            "          URN           LANAME   LA  ESTAB  LAESTAB  \\\n",
            "0      100000   City of London  201   3614  2013614   \n",
            "1      100001   City of London  201   6005  2016005   \n",
            "2      100002   City of London  201   6006  2016006   \n",
            "3      100003   City of London  201   6007  2016007   \n",
            "4      100008           Camden  202   2019  2022019   \n",
            "...       ...              ...  ...    ...      ...   \n",
            "25393  151399  North Yorkshire  815   2225  8152225   \n",
            "25394  151432          Norfolk  926   2276  9262276   \n",
            "25395  151443        Blackpool  890   4007  8904007   \n",
            "25396  151533        Wiltshire  865   4009  8654009   \n",
            "25397  151534            Essex  881   2195  8812195   \n",
            "\n",
            "                                         SCHNAME                     STREET  \\\n",
            "0                             The Aldgate School         St James's Passage   \n",
            "1                City of London School for Girls          St Giles' Terrace   \n",
            "2                     St Paul's Cathedral School               2 New Change   \n",
            "3                          City of London School  107 Queen Victoria Street   \n",
            "4                          Argyle Primary School           Tonbridge Street   \n",
            "...                                          ...                        ...   \n",
            "25393                          Broomfield School          Broomfield Avenue   \n",
            "25394                      Iceni Primary Academy             98 Main Street   \n",
            "25395                        South Shore Academy              St Annes Road   \n",
            "25396                         Pewsey Vale School                Wilcot Road   \n",
            "25397  St Michael's CofE Primary Academy, Ramsey                 Mayes Lane   \n",
            "\n",
            "           LOCALITY ADDRESS3                 TOWN  ... ISPOST16 AGELOW  \\\n",
            "0      Duke's Place      NaN               London  ...        0    3.0   \n",
            "1          Barbican      NaN               London  ...        1    7.0   \n",
            "2               NaN      NaN               London  ...        0    4.0   \n",
            "3               NaN      NaN               London  ...        1   10.0   \n",
            "4               NaN      NaN               London  ...        0    3.0   \n",
            "...             ...      ...                  ...  ...      ...    ...   \n",
            "25393           NaN      NaN        Northallerton  ...        0    4.0   \n",
            "25394           NaN      NaN  Hockwold Cum Wilton  ...        0    4.0   \n",
            "25395           NaN      NaN            Blackpool  ...        0   11.0   \n",
            "25396     Wiltshire      NaN               Pewsey  ...        0   11.0   \n",
            "25397        Ramsey      NaN              Harwich  ...        0    5.0   \n",
            "\n",
            "      AGEHIGH GENDER            RELCHAR          ADMPOL  OFSTEDRATING  \\\n",
            "0        11.0  Mixed  Church of England  Not applicable   Outstanding   \n",
            "1        18.0  Girls                NaN       Selective           NaN   \n",
            "2        13.0  Mixed  Church of England  Not applicable           NaN   \n",
            "3        18.0   Boys                NaN  Not applicable           NaN   \n",
            "4        11.0  Mixed     Does not apply  Not applicable          Good   \n",
            "...       ...    ...                ...             ...           ...   \n",
            "25393    11.0  Mixed     Does not apply  Not applicable           NaN   \n",
            "25394    11.0  Mixed                NaN             NaN           NaN   \n",
            "25395    16.0  Mixed                NaN             NaN           NaN   \n",
            "25396    16.0  Mixed                NaN             NaN           NaN   \n",
            "25397    11.0    NaN  Church of England             NaN           NaN   \n",
            "\n",
            "       OFSTEDLASTINSP  Longitude_prop  Latitude_prop  \n",
            "0          12-06-2024       -0.077486      51.513662  \n",
            "1                 NaN       -0.094509      51.519129  \n",
            "2                 NaN       -0.096820      51.513834  \n",
            "3                 NaN       -0.099387      51.511025  \n",
            "4          04-10-2022       -0.124037      51.528750  \n",
            "...               ...             ...            ...  \n",
            "25393             NaN       -1.435780      54.329917  \n",
            "25394             NaN        0.551408      52.463048  \n",
            "25395             NaN       -3.043894      53.796128  \n",
            "25396             NaN       -1.774059      51.340085  \n",
            "25397             NaN        1.226391      51.926574  \n",
            "\n",
            "[25398 rows x 28 columns]\n"
          ]
        }
      ]
    },
    {
      "cell_type": "markdown",
      "source": [
        "### Checking the null values"
      ],
      "metadata": {
        "id": "LMOHrfdD7wiy"
      }
    },
    {
      "cell_type": "code",
      "source": [
        "print('_________ Land registry merged data __________\\n')\n",
        "print(df_merged.isnull().sum())\n",
        "print('\\n ___________ Stops ______________\\n')\n",
        "print(Stops.isnull().sum())\n",
        "print('\\n _______________   School merged data ____________\\n')\n",
        "print(school_merged.isnull().sum())"
      ],
      "metadata": {
        "colab": {
          "base_uri": "https://localhost:8080/"
        },
        "id": "WlMsIh3PiVKe",
        "outputId": "23a475bd-0f39-4779-902c-a19426185079"
      },
      "execution_count": 20,
      "outputs": [
        {
          "output_type": "stream",
          "name": "stdout",
          "text": [
            "_________ Land registry merged data __________\n",
            "\n",
            "Transaction unique identifier           0\n",
            "Price                                   0\n",
            "Date of Transfer                        0\n",
            "Postcode                                0\n",
            "PropertyType                            0\n",
            "Old/New                                 0\n",
            "Duration                                0\n",
            "PAON                                    0\n",
            "SAON                               703022\n",
            "Street                              12927\n",
            "Locality                           506337\n",
            "Town/city                               0\n",
            "District                                0\n",
            "County                                  0\n",
            "PPD Category Type                       0\n",
            "Record Status-monthly file only         0\n",
            "Longitude_prop                          0\n",
            "Latitude_prop                           0\n",
            "dtype: int64\n",
            "\n",
            " ___________ Stops ______________\n",
            "\n",
            "ATCOCode                        0\n",
            "NaptanCode                  25721\n",
            "PlateCode                  372481\n",
            "CleardownCode              435436\n",
            "CommonName                      0\n",
            "CommonNameLang             435436\n",
            "ShortCommonName            338697\n",
            "ShortCommonNameLang        435436\n",
            "Landmark                   184115\n",
            "LandmarkLang               435436\n",
            "Street                      23944\n",
            "StreetLang                 435436\n",
            "Crossing                   435436\n",
            "CrossingLang               435436\n",
            "Indicator                   23814\n",
            "IndicatorLang              435436\n",
            "Bearing                     23842\n",
            "NptgLocalityCode                0\n",
            "LocalityName                    0\n",
            "ParentLocalityName         245363\n",
            "GrandParentLocalityName    435436\n",
            "Town                       279737\n",
            "TownLang                   420230\n",
            "Suburb                     362544\n",
            "SuburbLang                 423781\n",
            "LocalityCentre               6395\n",
            "GridType                    16412\n",
            "Easting                         0\n",
            "Northing                        0\n",
            "Longitude                   52469\n",
            "Latitude                    52469\n",
            "StopType                        0\n",
            "BusStopType                 18359\n",
            "TimingStatus                15175\n",
            "DefaultWaitTime            435436\n",
            "Notes                      435436\n",
            "NotesLang                  435436\n",
            "AdministrativeAreaCode          0\n",
            "CreationDateTime                0\n",
            "ModificationDateTime          426\n",
            "RevisionNumber              10814\n",
            "Modification                35366\n",
            "Status                          0\n",
            "dtype: int64\n",
            "\n",
            " _______________   School merged data ____________\n",
            "\n",
            "URN                   0\n",
            "LANAME                0\n",
            "LA                    0\n",
            "ESTAB                 0\n",
            "LAESTAB               0\n",
            "SCHNAME               0\n",
            "STREET               60\n",
            "LOCALITY          11036\n",
            "ADDRESS3          23103\n",
            "TOWN                520\n",
            "Postcode              0\n",
            "SCHSTATUS             0\n",
            "OPENDATE          23937\n",
            "CLOSEDATE         23929\n",
            "MINORGROUP            0\n",
            "SCHOOLTYPE            0\n",
            "ISPRIMARY             0\n",
            "ISSECONDARY           0\n",
            "ISPOST16              0\n",
            "AGELOW                4\n",
            "AGEHIGH               4\n",
            "GENDER                7\n",
            "RELCHAR            4593\n",
            "ADMPOL             1132\n",
            "OFSTEDRATING       3363\n",
            "OFSTEDLASTINSP     3240\n",
            "Longitude_prop        0\n",
            "Latitude_prop         0\n",
            "dtype: int64\n"
          ]
        }
      ]
    },
    {
      "cell_type": "code",
      "source": [
        "Stops.dropna(subset = ['Latitude', 'Longitude'], how='all',inplace=True)"
      ],
      "metadata": {
        "id": "XDGEtjd2BoJl"
      },
      "execution_count": 21,
      "outputs": []
    },
    {
      "cell_type": "markdown",
      "source": [
        "### Top 30 Districts"
      ],
      "metadata": {
        "id": "j6Mj_XLd8Q1s"
      }
    },
    {
      "cell_type": "code",
      "source": [
        "top_30 = pd.DataFrame(df_merged['District'].value_counts()[:30]).reset_index()\n",
        "locations = top_30['District'].values"
      ],
      "metadata": {
        "id": "4arte34NvQUT"
      },
      "execution_count": 22,
      "outputs": []
    },
    {
      "cell_type": "code",
      "source": [
        "filtered_df = df_merged[df_merged['District'].isin(locations)]"
      ],
      "metadata": {
        "id": "9wFzPhpCxxuB"
      },
      "execution_count": 23,
      "outputs": []
    },
    {
      "cell_type": "code",
      "source": [],
      "metadata": {
        "id": "zvmuEk1_yMKI"
      },
      "execution_count": 23,
      "outputs": []
    },
    {
      "cell_type": "code",
      "source": [],
      "metadata": {
        "id": "KoiP69-VyK6S"
      },
      "execution_count": 23,
      "outputs": []
    },
    {
      "cell_type": "markdown",
      "source": [
        "### Creating New columns"
      ],
      "metadata": {
        "id": "d5wH_EfXCjAk"
      }
    },
    {
      "cell_type": "markdown",
      "source": [
        "### DISTANCE calculation betweeen Stops data and land registry data"
      ],
      "metadata": {
        "id": "6yQdbkQgHHRU"
      }
    },
    {
      "cell_type": "code",
      "source": [
        "def latlon_to_cartesian(lat, lon, R=6371.0):\n",
        "    lat_radians = np.radians(lat)\n",
        "    lon_radians = np.radians(lon)\n",
        "    x = R * np.cos(lat_radians) * np.cos(lon_radians)\n",
        "    y = R * np.cos(lat_radians) * np.sin(lon_radians)\n",
        "    z = R * np.sin(lat_radians)\n",
        "    return x, y, z"
      ],
      "metadata": {
        "id": "yG23KMi7Gw8_"
      },
      "execution_count": 24,
      "outputs": []
    },
    {
      "cell_type": "code",
      "source": [
        "# Build station coords & KDTree\n",
        "sx, sy, sz = latlon_to_cartesian(Stops['Latitude'], Stops['Longitude'])\n",
        "station_coords = np.column_stack((sx, sy, sz))\n",
        "tree = cKDTree(station_coords)"
      ],
      "metadata": {
        "id": "_kUnr2paGwnB"
      },
      "execution_count": 25,
      "outputs": []
    },
    {
      "cell_type": "code",
      "source": [
        "\n",
        "# Convert properties to 3D\n",
        "# FILTERED_DF IS THE LAND REGISTRY FINAL DATA\n",
        "px, py, pz = latlon_to_cartesian(filtered_df['Latitude_prop'], filtered_df['Longitude_prop'])\n",
        "prop_coords = np.column_stack((px, py, pz))"
      ],
      "metadata": {
        "id": "9RTp5czjGwNV"
      },
      "execution_count": 26,
      "outputs": []
    },
    {
      "cell_type": "code",
      "source": [
        "# Query tree\n",
        "distances, indices = tree.query(prop_coords, k=1)\n",
        "\n",
        "# Attach results\n",
        "filtered_df['nearest_station_index'] = indices\n",
        "filtered_df['dist_chord_km'] = distances\n",
        "filtered_df['closest_station'] = filtered_df['nearest_station_index'].apply(\n",
        "    lambda i: Stops.iloc[i]['CommonName'] if i >= 0 else None\n",
        ")\n"
      ],
      "metadata": {
        "colab": {
          "base_uri": "https://localhost:8080/"
        },
        "collapsed": true,
        "id": "QAvIKRRF_Zr7",
        "outputId": "ffd0d23b-2e3e-4c98-8357-8786eae03854"
      },
      "execution_count": 27,
      "outputs": [
        {
          "output_type": "stream",
          "name": "stderr",
          "text": [
            "<ipython-input-27-385ca91d814f>:5: SettingWithCopyWarning: \n",
            "A value is trying to be set on a copy of a slice from a DataFrame.\n",
            "Try using .loc[row_indexer,col_indexer] = value instead\n",
            "\n",
            "See the caveats in the documentation: https://pandas.pydata.org/pandas-docs/stable/user_guide/indexing.html#returning-a-view-versus-a-copy\n",
            "  filtered_df['nearest_station_index'] = indices\n",
            "<ipython-input-27-385ca91d814f>:6: SettingWithCopyWarning: \n",
            "A value is trying to be set on a copy of a slice from a DataFrame.\n",
            "Try using .loc[row_indexer,col_indexer] = value instead\n",
            "\n",
            "See the caveats in the documentation: https://pandas.pydata.org/pandas-docs/stable/user_guide/indexing.html#returning-a-view-versus-a-copy\n",
            "  filtered_df['dist_chord_km'] = distances\n",
            "<ipython-input-27-385ca91d814f>:7: SettingWithCopyWarning: \n",
            "A value is trying to be set on a copy of a slice from a DataFrame.\n",
            "Try using .loc[row_indexer,col_indexer] = value instead\n",
            "\n",
            "See the caveats in the documentation: https://pandas.pydata.org/pandas-docs/stable/user_guide/indexing.html#returning-a-view-versus-a-copy\n",
            "  filtered_df['closest_station'] = filtered_df['nearest_station_index'].apply(\n"
          ]
        }
      ]
    },
    {
      "cell_type": "markdown",
      "source": [
        "###  DISTANCE calculation betweeen Schools data and land registry data"
      ],
      "metadata": {
        "id": "jt_oSMktKWif"
      }
    },
    {
      "cell_type": "code",
      "source": [
        "# Build station coords & KDTree\n",
        "sx1, sy1, sz1 = latlon_to_cartesian(school_merged['Latitude_prop'], school_merged['Longitude_prop'])\n",
        "school_coords = np.column_stack((sx1, sy1, sz1))\n",
        "tree1 = cKDTree(school_coords)"
      ],
      "metadata": {
        "id": "WZhmD46eHWbd"
      },
      "execution_count": 28,
      "outputs": []
    },
    {
      "cell_type": "code",
      "source": [
        "# Convert properties to 3D\n",
        "px1, py1, pz1 = latlon_to_cartesian(filtered_df['Latitude_prop'], filtered_df['Longitude_prop'])\n",
        "prop_coords1 = np.column_stack((px1, py1, pz1))"
      ],
      "metadata": {
        "id": "EYXBBhnOHWEj"
      },
      "execution_count": 29,
      "outputs": []
    },
    {
      "cell_type": "code",
      "source": [
        "# Query tree\n",
        "distances1, indices1 = tree1.query(prop_coords1, k=1)\n",
        "\n",
        "# Attach results\n",
        "filtered_df['nearest_school_index'] = indices1\n",
        "filtered_df['dist_school_km'] = distances1\n",
        "filtered_df['closest_school'] = filtered_df['nearest_school_index'].apply(\n",
        "    lambda i: school_merged.iloc[i]['SCHNAME'] if i >= 0 else None\n",
        ")"
      ],
      "metadata": {
        "colab": {
          "base_uri": "https://localhost:8080/"
        },
        "id": "DWnzkILqIcV6",
        "outputId": "7e8c709f-c714-4c80-ed9e-352d6188bb57"
      },
      "execution_count": 30,
      "outputs": [
        {
          "output_type": "stream",
          "name": "stderr",
          "text": [
            "<ipython-input-30-7d80b88ed0f8>:5: SettingWithCopyWarning: \n",
            "A value is trying to be set on a copy of a slice from a DataFrame.\n",
            "Try using .loc[row_indexer,col_indexer] = value instead\n",
            "\n",
            "See the caveats in the documentation: https://pandas.pydata.org/pandas-docs/stable/user_guide/indexing.html#returning-a-view-versus-a-copy\n",
            "  filtered_df['nearest_school_index'] = indices1\n",
            "<ipython-input-30-7d80b88ed0f8>:6: SettingWithCopyWarning: \n",
            "A value is trying to be set on a copy of a slice from a DataFrame.\n",
            "Try using .loc[row_indexer,col_indexer] = value instead\n",
            "\n",
            "See the caveats in the documentation: https://pandas.pydata.org/pandas-docs/stable/user_guide/indexing.html#returning-a-view-versus-a-copy\n",
            "  filtered_df['dist_school_km'] = distances1\n",
            "<ipython-input-30-7d80b88ed0f8>:7: SettingWithCopyWarning: \n",
            "A value is trying to be set on a copy of a slice from a DataFrame.\n",
            "Try using .loc[row_indexer,col_indexer] = value instead\n",
            "\n",
            "See the caveats in the documentation: https://pandas.pydata.org/pandas-docs/stable/user_guide/indexing.html#returning-a-view-versus-a-copy\n",
            "  filtered_df['closest_school'] = filtered_df['nearest_school_index'].apply(\n"
          ]
        }
      ]
    },
    {
      "cell_type": "code",
      "source": [
        "filtered_df.head()\n",
        "filtered_df.to_csv(\"/content/drive/MyDrive/data science project/final registry data.csv\")"
      ],
      "metadata": {
        "id": "vZ6XOpbhJ6kl"
      },
      "execution_count": 31,
      "outputs": []
    },
    {
      "cell_type": "code",
      "source": [],
      "metadata": {
        "id": "yt5g6_c8KmFa"
      },
      "execution_count": null,
      "outputs": []
    }
  ]
}